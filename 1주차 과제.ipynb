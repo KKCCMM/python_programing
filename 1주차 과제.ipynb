{
 "cells": [
  {
   "cell_type": "markdown",
   "id": "dea883c7-be65-4ff8-81d7-e2fc1b55d1fc",
   "metadata": {},
   "source": [
    "# 이렇게 설명을 쓸 수 있는 노트북!"
   ]
  },
  {
   "cell_type": "code",
   "execution_count": 2,
   "id": "7f732151-5777-4a8b-bcde-3b4b526583fc",
   "metadata": {
    "tags": []
   },
   "outputs": [
    {
     "name": "stdout",
     "output_type": "stream",
     "text": [
      "hello python\n"
     ]
    }
   ],
   "source": [
    "print('hello python')"
   ]
  },
  {
   "cell_type": "code",
   "execution_count": null,
   "id": "13b7dcd5-f609-455d-ac25-3d630cba7cba",
   "metadata": {},
   "outputs": [],
   "source": []
  },
  {
   "cell_type": "code",
   "execution_count": null,
   "id": "edcf26ec-9516-4466-96d5-bda031e34dba",
   "metadata": {},
   "outputs": [],
   "source": []
  }
 ],
 "metadata": {
  "kernelspec": {
   "display_name": "Python 3 (ipykernel)",
   "language": "python",
   "name": "python3"
  },
  "language_info": {
   "codemirror_mode": {
    "name": "ipython",
    "version": 3
   },
   "file_extension": ".py",
   "mimetype": "text/x-python",
   "name": "python",
   "nbconvert_exporter": "python",
   "pygments_lexer": "ipython3",
   "version": "3.9.7"
  }
 },
 "nbformat": 4,
 "nbformat_minor": 5
}
